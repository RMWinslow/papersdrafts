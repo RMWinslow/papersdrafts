{
 "metadata": {
  "language_info": {
   "codemirror_mode": {
    "name": "ipython",
    "version": 3
   },
   "file_extension": ".py",
   "mimetype": "text/x-python",
   "name": "python",
   "nbconvert_exporter": "python",
   "pygments_lexer": "ipython3",
   "version": "3.6.10-final"
  },
  "orig_nbformat": 2,
  "kernelspec": {
   "name": "python3",
   "display_name": "Python 3",
   "language": "python"
  }
 },
 "nbformat": 4,
 "nbformat_minor": 2,
 "cells": [
  {
   "cell_type": "code",
   "execution_count": 7,
   "metadata": {},
   "outputs": [],
   "source": [
    "import pyreadstat\n",
    "import pandas as pd\n",
    "trainingdata, meta = pyreadstat.read_dta('2012_CPS_training_sample.dta')\n"
   ]
  },
  {
   "cell_type": "code",
   "execution_count": 8,
   "metadata": {},
   "outputs": [
    {
     "output_type": "stream",
     "name": "stdout",
     "text": [
      "<bound method NDFrame.head of        serial  pernum  wtsupp  wageinc  age  educ_cat  male  race_cat  \\\n0           5       2  569.43    18000   39       3.0   1.0       1.0   \n1          16       2  625.96    11000   47       1.0   0.0       1.0   \n2          19       2  264.22     8000   39       3.0   0.0       1.0   \n3          22       2  256.81   100000   39       4.0   1.0       1.0   \n4          34       2  273.62     4500   37       3.0   0.0       1.0   \n...       ...     ...     ...      ...  ...       ...   ...       ...   \n46010   96640       4  302.67    30000   35       2.0   0.0       3.0   \n46011   96658       1  362.23    50000   49       5.0   1.0       3.0   \n46012   96658       2  362.23    50000   44       5.0   0.0       3.0   \n46013   96659       1  282.87    65000   28       5.0   1.0       1.0   \n46014   96659       2  282.87    40000   28       5.0   0.0       1.0   \n\n       statefip  \n0            23  \n1            23  \n2            23  \n3            23  \n4            23  \n...         ...  \n46010        15  \n46011        15  \n46012        15  \n46013        15  \n46014        15  \n\n[46015 rows x 9 columns]>\n"
     ]
    }
   ],
   "source": [
    "print(trainingdata.head)"
   ]
  },
  {
   "cell_type": "code",
   "execution_count": 9,
   "metadata": {},
   "outputs": [
    {
     "output_type": "stream",
     "name": "stdout",
     "text": [
      "HALLO\n"
     ]
    }
   ],
   "source": [
    "print(\"HALLO\")"
   ]
  },
  {
   "cell_type": "code",
   "execution_count": 10,
   "metadata": {},
   "outputs": [
    {
     "output_type": "stream",
     "name": "stdout",
     "text": [
      "sds555dfAAAAAAGdsdsFGDFG\n"
     ]
    }
   ],
   "source": [
    "\n",
    "#%%\n",
    "\n",
    "\n",
    "print(\"sds555dfAAAAAAGdsdsFGDFG\")\n",
    "\n",
    "\n",
    "# %%\n",
    "\n",
    "\n",
    "\n",
    "\n",
    "\n",
    "# %%\n"
   ]
  },
  {
   "cell_type": "code",
   "execution_count": null,
   "metadata": {},
   "outputs": [],
   "source": []
  }
 ]
}